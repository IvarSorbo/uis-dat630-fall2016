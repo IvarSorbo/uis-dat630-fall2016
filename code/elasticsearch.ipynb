{
 "cells": [
  {
   "cell_type": "markdown",
   "metadata": {},
   "source": [
    "# Elasticsearch"
   ]
  },
  {
   "cell_type": "code",
   "execution_count": 27,
   "metadata": {
    "collapsed": true
   },
   "outputs": [],
   "source": [
    "from elasticsearch import Elasticsearch"
   ]
  },
  {
   "cell_type": "code",
   "execution_count": 28,
   "metadata": {
    "collapsed": true
   },
   "outputs": [],
   "source": [
    "es = Elasticsearch()"
   ]
  },
  {
   "cell_type": "code",
   "execution_count": 29,
   "metadata": {
    "collapsed": false
   },
   "outputs": [
    {
     "data": {
      "text/plain": [
       "{'cluster_name': 'elasticsearch',\n",
       " 'name': 'Atum',\n",
       " 'tagline': 'You Know, for Search',\n",
       " 'version': {'build_hash': '218bdf10790eef486ff2c41a3df5cfa32dadcfde',\n",
       "  'build_snapshot': False,\n",
       "  'build_timestamp': '2016-05-17T15:40:04Z',\n",
       "  'lucene_version': '5.5.0',\n",
       "  'number': '2.3.3'}}"
      ]
     },
     "execution_count": 29,
     "metadata": {},
     "output_type": "execute_result"
    }
   ],
   "source": [
    "es.info()"
   ]
  },
  {
   "cell_type": "code",
   "execution_count": 30,
   "metadata": {
    "collapsed": true
   },
   "outputs": [],
   "source": [
    "DOCS = {\n",
    "    \"1\": {\n",
    "        \"user\": \"dilbert\",\n",
    "        \"postDate\": \"2011-12-15\",\n",
    "        \"body\": \"Search is hard. Search should be easy.\" ,\n",
    "        \"title\": \"On search\"\n",
    "    },\n",
    "    \"2\": {\n",
    "        \"user\": \"dilbert\",\n",
    "        \"postDate\": \"2011-12-12\",\n",
    "        \"body\": \"Distribution is hard. Distribution should be easy.\" ,\n",
    "        \"title\": \"On distributed search\"        \n",
    "    },\n",
    "    \"3\": {\n",
    "        \"user\": \"dilbert\",\n",
    "        \"postDate\": \"2011-12-10\",\n",
    "        \"body\": \"Lorem ipsum dolor sit amet, consectetuer adipiscing elit, sed diam nonummy nibh euismod tincidunt ut laoreet dolore magna aliquam erat volutpat\" ,\n",
    "        \"title\": \"Lorem ipsum\"        \n",
    "    }\n",
    "}"
   ]
  },
  {
   "cell_type": "markdown",
   "metadata": {},
   "source": [
    "## Create index"
   ]
  },
  {
   "cell_type": "code",
   "execution_count": 31,
   "metadata": {
    "collapsed": true
   },
   "outputs": [],
   "source": [
    "INDEX_NAME = \"blog\"\n",
    "DOC_TYPE = \"post\""
   ]
  },
  {
   "cell_type": "code",
   "execution_count": 32,
   "metadata": {
    "collapsed": false
   },
   "outputs": [],
   "source": [
    "if not es.indices.exists(INDEX_NAME):\n",
    "    es.indices.create(index=INDEX_NAME)"
   ]
  },
  {
   "cell_type": "markdown",
   "metadata": {},
   "source": [
    "## Add documents to index"
   ]
  },
  {
   "cell_type": "code",
   "execution_count": 33,
   "metadata": {
    "collapsed": false
   },
   "outputs": [],
   "source": [
    "for doc_id, content in DOCS.items():\n",
    "    es.index(index=INDEX_NAME, doc_type=DOC_TYPE, id=doc_id, body=content)"
   ]
  },
  {
   "cell_type": "markdown",
   "metadata": {},
   "source": [
    "## Request document"
   ]
  },
  {
   "cell_type": "code",
   "execution_count": 34,
   "metadata": {
    "collapsed": false
   },
   "outputs": [],
   "source": [
    "doc = es.get(index=INDEX_NAME, doc_type=DOC_TYPE, id=1)"
   ]
  },
  {
   "cell_type": "code",
   "execution_count": 35,
   "metadata": {
    "collapsed": false
   },
   "outputs": [
    {
     "data": {
      "text/plain": [
       "{'_id': '1',\n",
       " '_index': 'blog',\n",
       " '_source': {'body': 'Search is hard. Search should be easy.',\n",
       "  'postDate': '2011-12-15',\n",
       "  'title': 'On search',\n",
       "  'user': 'dilbert'},\n",
       " '_type': 'post',\n",
       " '_version': 6,\n",
       " 'found': True}"
      ]
     },
     "execution_count": 35,
     "metadata": {},
     "output_type": "execute_result"
    }
   ],
   "source": [
    "doc"
   ]
  },
  {
   "cell_type": "code",
   "execution_count": 36,
   "metadata": {
    "collapsed": false
   },
   "outputs": [],
   "source": [
    "stats = es.indices.stats(index=INDEX_NAME)"
   ]
  },
  {
   "cell_type": "code",
   "execution_count": 37,
   "metadata": {
    "collapsed": false
   },
   "outputs": [
    {
     "data": {
      "text/plain": [
       "{'_all': {'primaries': {'completion': {'size_in_bytes': 0},\n",
       "   'docs': {'count': 3, 'deleted': 0},\n",
       "   'fielddata': {'evictions': 0, 'memory_size_in_bytes': 0},\n",
       "   'flush': {'total': 0, 'total_time_in_millis': 0},\n",
       "   'get': {'current': 0,\n",
       "    'exists_time_in_millis': 1,\n",
       "    'exists_total': 1,\n",
       "    'missing_time_in_millis': 0,\n",
       "    'missing_total': 0,\n",
       "    'time_in_millis': 1,\n",
       "    'total': 1},\n",
       "   'indexing': {'delete_current': 0,\n",
       "    'delete_time_in_millis': 0,\n",
       "    'delete_total': 0,\n",
       "    'index_current': 0,\n",
       "    'index_failed': 0,\n",
       "    'index_time_in_millis': 98,\n",
       "    'index_total': 3,\n",
       "    'is_throttled': False,\n",
       "    'noop_update_total': 0,\n",
       "    'throttle_time_in_millis': 0},\n",
       "   'merges': {'current': 0,\n",
       "    'current_docs': 0,\n",
       "    'current_size_in_bytes': 0,\n",
       "    'total': 0,\n",
       "    'total_auto_throttle_in_bytes': 104857600,\n",
       "    'total_docs': 0,\n",
       "    'total_size_in_bytes': 0,\n",
       "    'total_stopped_time_in_millis': 0,\n",
       "    'total_throttled_time_in_millis': 0,\n",
       "    'total_time_in_millis': 0},\n",
       "   'percolate': {'current': 0,\n",
       "    'memory_size': '-1b',\n",
       "    'memory_size_in_bytes': -1,\n",
       "    'queries': 0,\n",
       "    'time_in_millis': 0,\n",
       "    'total': 0},\n",
       "   'query_cache': {'cache_count': 0,\n",
       "    'cache_size': 0,\n",
       "    'evictions': 0,\n",
       "    'hit_count': 0,\n",
       "    'memory_size_in_bytes': 0,\n",
       "    'miss_count': 0,\n",
       "    'total_count': 0},\n",
       "   'recovery': {'current_as_source': 0,\n",
       "    'current_as_target': 0,\n",
       "    'throttle_time_in_millis': 0},\n",
       "   'refresh': {'total': 0, 'total_time_in_millis': 0},\n",
       "   'request_cache': {'evictions': 0,\n",
       "    'hit_count': 0,\n",
       "    'memory_size_in_bytes': 0,\n",
       "    'miss_count': 0},\n",
       "   'search': {'fetch_current': 0,\n",
       "    'fetch_time_in_millis': 0,\n",
       "    'fetch_total': 0,\n",
       "    'open_contexts': 0,\n",
       "    'query_current': 0,\n",
       "    'query_time_in_millis': 0,\n",
       "    'query_total': 0,\n",
       "    'scroll_current': 0,\n",
       "    'scroll_time_in_millis': 0,\n",
       "    'scroll_total': 0},\n",
       "   'segments': {'count': 3,\n",
       "    'doc_values_memory_in_bytes': 276,\n",
       "    'fixed_bit_set_memory_in_bytes': 0,\n",
       "    'index_writer_max_memory_in_bytes': 25948975,\n",
       "    'index_writer_memory_in_bytes': 632866,\n",
       "    'memory_in_bytes': 7956,\n",
       "    'norms_memory_in_bytes': 768,\n",
       "    'stored_fields_memory_in_bytes': 936,\n",
       "    'term_vectors_memory_in_bytes': 0,\n",
       "    'terms_memory_in_bytes': 5976,\n",
       "    'version_map_memory_in_bytes': 414},\n",
       "   'store': {'size_in_bytes': 12846, 'throttle_time_in_millis': 0},\n",
       "   'suggest': {'current': 0, 'time_in_millis': 0, 'total': 0},\n",
       "   'translog': {'operations': 3, 'size_in_bytes': 834},\n",
       "   'warmer': {'current': 0, 'total': 10, 'total_time_in_millis': 0}},\n",
       "  'total': {'completion': {'size_in_bytes': 0},\n",
       "   'docs': {'count': 3, 'deleted': 0},\n",
       "   'fielddata': {'evictions': 0, 'memory_size_in_bytes': 0},\n",
       "   'flush': {'total': 0, 'total_time_in_millis': 0},\n",
       "   'get': {'current': 0,\n",
       "    'exists_time_in_millis': 1,\n",
       "    'exists_total': 1,\n",
       "    'missing_time_in_millis': 0,\n",
       "    'missing_total': 0,\n",
       "    'time_in_millis': 1,\n",
       "    'total': 1},\n",
       "   'indexing': {'delete_current': 0,\n",
       "    'delete_time_in_millis': 0,\n",
       "    'delete_total': 0,\n",
       "    'index_current': 0,\n",
       "    'index_failed': 0,\n",
       "    'index_time_in_millis': 98,\n",
       "    'index_total': 3,\n",
       "    'is_throttled': False,\n",
       "    'noop_update_total': 0,\n",
       "    'throttle_time_in_millis': 0},\n",
       "   'merges': {'current': 0,\n",
       "    'current_docs': 0,\n",
       "    'current_size_in_bytes': 0,\n",
       "    'total': 0,\n",
       "    'total_auto_throttle_in_bytes': 104857600,\n",
       "    'total_docs': 0,\n",
       "    'total_size_in_bytes': 0,\n",
       "    'total_stopped_time_in_millis': 0,\n",
       "    'total_throttled_time_in_millis': 0,\n",
       "    'total_time_in_millis': 0},\n",
       "   'percolate': {'current': 0,\n",
       "    'memory_size': '-1b',\n",
       "    'memory_size_in_bytes': -1,\n",
       "    'queries': 0,\n",
       "    'time_in_millis': 0,\n",
       "    'total': 0},\n",
       "   'query_cache': {'cache_count': 0,\n",
       "    'cache_size': 0,\n",
       "    'evictions': 0,\n",
       "    'hit_count': 0,\n",
       "    'memory_size_in_bytes': 0,\n",
       "    'miss_count': 0,\n",
       "    'total_count': 0},\n",
       "   'recovery': {'current_as_source': 0,\n",
       "    'current_as_target': 0,\n",
       "    'throttle_time_in_millis': 0},\n",
       "   'refresh': {'total': 0, 'total_time_in_millis': 0},\n",
       "   'request_cache': {'evictions': 0,\n",
       "    'hit_count': 0,\n",
       "    'memory_size_in_bytes': 0,\n",
       "    'miss_count': 0},\n",
       "   'search': {'fetch_current': 0,\n",
       "    'fetch_time_in_millis': 0,\n",
       "    'fetch_total': 0,\n",
       "    'open_contexts': 0,\n",
       "    'query_current': 0,\n",
       "    'query_time_in_millis': 0,\n",
       "    'query_total': 0,\n",
       "    'scroll_current': 0,\n",
       "    'scroll_time_in_millis': 0,\n",
       "    'scroll_total': 0},\n",
       "   'segments': {'count': 3,\n",
       "    'doc_values_memory_in_bytes': 276,\n",
       "    'fixed_bit_set_memory_in_bytes': 0,\n",
       "    'index_writer_max_memory_in_bytes': 25948975,\n",
       "    'index_writer_memory_in_bytes': 632866,\n",
       "    'memory_in_bytes': 7956,\n",
       "    'norms_memory_in_bytes': 768,\n",
       "    'stored_fields_memory_in_bytes': 936,\n",
       "    'term_vectors_memory_in_bytes': 0,\n",
       "    'terms_memory_in_bytes': 5976,\n",
       "    'version_map_memory_in_bytes': 414},\n",
       "   'store': {'size_in_bytes': 12846, 'throttle_time_in_millis': 0},\n",
       "   'suggest': {'current': 0, 'time_in_millis': 0, 'total': 0},\n",
       "   'translog': {'operations': 3, 'size_in_bytes': 834},\n",
       "   'warmer': {'current': 0, 'total': 10, 'total_time_in_millis': 0}}},\n",
       " '_shards': {'failed': 0, 'successful': 5, 'total': 10},\n",
       " 'indices': {'blog': {'primaries': {'completion': {'size_in_bytes': 0},\n",
       "    'docs': {'count': 3, 'deleted': 0},\n",
       "    'fielddata': {'evictions': 0, 'memory_size_in_bytes': 0},\n",
       "    'flush': {'total': 0, 'total_time_in_millis': 0},\n",
       "    'get': {'current': 0,\n",
       "     'exists_time_in_millis': 1,\n",
       "     'exists_total': 1,\n",
       "     'missing_time_in_millis': 0,\n",
       "     'missing_total': 0,\n",
       "     'time_in_millis': 1,\n",
       "     'total': 1},\n",
       "    'indexing': {'delete_current': 0,\n",
       "     'delete_time_in_millis': 0,\n",
       "     'delete_total': 0,\n",
       "     'index_current': 0,\n",
       "     'index_failed': 0,\n",
       "     'index_time_in_millis': 98,\n",
       "     'index_total': 3,\n",
       "     'is_throttled': False,\n",
       "     'noop_update_total': 0,\n",
       "     'throttle_time_in_millis': 0},\n",
       "    'merges': {'current': 0,\n",
       "     'current_docs': 0,\n",
       "     'current_size_in_bytes': 0,\n",
       "     'total': 0,\n",
       "     'total_auto_throttle_in_bytes': 104857600,\n",
       "     'total_docs': 0,\n",
       "     'total_size_in_bytes': 0,\n",
       "     'total_stopped_time_in_millis': 0,\n",
       "     'total_throttled_time_in_millis': 0,\n",
       "     'total_time_in_millis': 0},\n",
       "    'percolate': {'current': 0,\n",
       "     'memory_size': '-1b',\n",
       "     'memory_size_in_bytes': -1,\n",
       "     'queries': 0,\n",
       "     'time_in_millis': 0,\n",
       "     'total': 0},\n",
       "    'query_cache': {'cache_count': 0,\n",
       "     'cache_size': 0,\n",
       "     'evictions': 0,\n",
       "     'hit_count': 0,\n",
       "     'memory_size_in_bytes': 0,\n",
       "     'miss_count': 0,\n",
       "     'total_count': 0},\n",
       "    'recovery': {'current_as_source': 0,\n",
       "     'current_as_target': 0,\n",
       "     'throttle_time_in_millis': 0},\n",
       "    'refresh': {'total': 0, 'total_time_in_millis': 0},\n",
       "    'request_cache': {'evictions': 0,\n",
       "     'hit_count': 0,\n",
       "     'memory_size_in_bytes': 0,\n",
       "     'miss_count': 0},\n",
       "    'search': {'fetch_current': 0,\n",
       "     'fetch_time_in_millis': 0,\n",
       "     'fetch_total': 0,\n",
       "     'open_contexts': 0,\n",
       "     'query_current': 0,\n",
       "     'query_time_in_millis': 0,\n",
       "     'query_total': 0,\n",
       "     'scroll_current': 0,\n",
       "     'scroll_time_in_millis': 0,\n",
       "     'scroll_total': 0},\n",
       "    'segments': {'count': 3,\n",
       "     'doc_values_memory_in_bytes': 276,\n",
       "     'fixed_bit_set_memory_in_bytes': 0,\n",
       "     'index_writer_max_memory_in_bytes': 25948975,\n",
       "     'index_writer_memory_in_bytes': 632866,\n",
       "     'memory_in_bytes': 7956,\n",
       "     'norms_memory_in_bytes': 768,\n",
       "     'stored_fields_memory_in_bytes': 936,\n",
       "     'term_vectors_memory_in_bytes': 0,\n",
       "     'terms_memory_in_bytes': 5976,\n",
       "     'version_map_memory_in_bytes': 414},\n",
       "    'store': {'size_in_bytes': 12846, 'throttle_time_in_millis': 0},\n",
       "    'suggest': {'current': 0, 'time_in_millis': 0, 'total': 0},\n",
       "    'translog': {'operations': 3, 'size_in_bytes': 834},\n",
       "    'warmer': {'current': 0, 'total': 10, 'total_time_in_millis': 0}},\n",
       "   'total': {'completion': {'size_in_bytes': 0},\n",
       "    'docs': {'count': 3, 'deleted': 0},\n",
       "    'fielddata': {'evictions': 0, 'memory_size_in_bytes': 0},\n",
       "    'flush': {'total': 0, 'total_time_in_millis': 0},\n",
       "    'get': {'current': 0,\n",
       "     'exists_time_in_millis': 1,\n",
       "     'exists_total': 1,\n",
       "     'missing_time_in_millis': 0,\n",
       "     'missing_total': 0,\n",
       "     'time_in_millis': 1,\n",
       "     'total': 1},\n",
       "    'indexing': {'delete_current': 0,\n",
       "     'delete_time_in_millis': 0,\n",
       "     'delete_total': 0,\n",
       "     'index_current': 0,\n",
       "     'index_failed': 0,\n",
       "     'index_time_in_millis': 98,\n",
       "     'index_total': 3,\n",
       "     'is_throttled': False,\n",
       "     'noop_update_total': 0,\n",
       "     'throttle_time_in_millis': 0},\n",
       "    'merges': {'current': 0,\n",
       "     'current_docs': 0,\n",
       "     'current_size_in_bytes': 0,\n",
       "     'total': 0,\n",
       "     'total_auto_throttle_in_bytes': 104857600,\n",
       "     'total_docs': 0,\n",
       "     'total_size_in_bytes': 0,\n",
       "     'total_stopped_time_in_millis': 0,\n",
       "     'total_throttled_time_in_millis': 0,\n",
       "     'total_time_in_millis': 0},\n",
       "    'percolate': {'current': 0,\n",
       "     'memory_size': '-1b',\n",
       "     'memory_size_in_bytes': -1,\n",
       "     'queries': 0,\n",
       "     'time_in_millis': 0,\n",
       "     'total': 0},\n",
       "    'query_cache': {'cache_count': 0,\n",
       "     'cache_size': 0,\n",
       "     'evictions': 0,\n",
       "     'hit_count': 0,\n",
       "     'memory_size_in_bytes': 0,\n",
       "     'miss_count': 0,\n",
       "     'total_count': 0},\n",
       "    'recovery': {'current_as_source': 0,\n",
       "     'current_as_target': 0,\n",
       "     'throttle_time_in_millis': 0},\n",
       "    'refresh': {'total': 0, 'total_time_in_millis': 0},\n",
       "    'request_cache': {'evictions': 0,\n",
       "     'hit_count': 0,\n",
       "     'memory_size_in_bytes': 0,\n",
       "     'miss_count': 0},\n",
       "    'search': {'fetch_current': 0,\n",
       "     'fetch_time_in_millis': 0,\n",
       "     'fetch_total': 0,\n",
       "     'open_contexts': 0,\n",
       "     'query_current': 0,\n",
       "     'query_time_in_millis': 0,\n",
       "     'query_total': 0,\n",
       "     'scroll_current': 0,\n",
       "     'scroll_time_in_millis': 0,\n",
       "     'scroll_total': 0},\n",
       "    'segments': {'count': 3,\n",
       "     'doc_values_memory_in_bytes': 276,\n",
       "     'fixed_bit_set_memory_in_bytes': 0,\n",
       "     'index_writer_max_memory_in_bytes': 25948975,\n",
       "     'index_writer_memory_in_bytes': 632866,\n",
       "     'memory_in_bytes': 7956,\n",
       "     'norms_memory_in_bytes': 768,\n",
       "     'stored_fields_memory_in_bytes': 936,\n",
       "     'term_vectors_memory_in_bytes': 0,\n",
       "     'terms_memory_in_bytes': 5976,\n",
       "     'version_map_memory_in_bytes': 414},\n",
       "    'store': {'size_in_bytes': 12846, 'throttle_time_in_millis': 0},\n",
       "    'suggest': {'current': 0, 'time_in_millis': 0, 'total': 0},\n",
       "    'translog': {'operations': 3, 'size_in_bytes': 834},\n",
       "    'warmer': {'current': 0, 'total': 10, 'total_time_in_millis': 0}}}}}"
      ]
     },
     "execution_count": 37,
     "metadata": {},
     "output_type": "execute_result"
    }
   ],
   "source": [
    "stats"
   ]
  },
  {
   "cell_type": "markdown",
   "metadata": {},
   "source": [
    "## Search"
   ]
  },
  {
   "cell_type": "code",
   "execution_count": 38,
   "metadata": {
    "collapsed": false
   },
   "outputs": [],
   "source": [
    "query = \"search distribution\"\n",
    "hits = es.search(index=INDEX_NAME, q=query, _source=False, size=10)['hits']"
   ]
  },
  {
   "cell_type": "code",
   "execution_count": 39,
   "metadata": {
    "collapsed": false
   },
   "outputs": [
    {
     "name": "stdout",
     "output_type": "stream",
     "text": [
      "2 0.13095762\n",
      "1 0.019489054\n"
     ]
    }
   ],
   "source": [
    "for hit in hits['hits']:\n",
    "    print(hit['_id'], hit['_score'])"
   ]
  },
  {
   "cell_type": "markdown",
   "metadata": {},
   "source": [
    "## Term statistics"
   ]
  },
  {
   "cell_type": "markdown",
   "metadata": {},
   "source": [
    "### Get the term vector for a given document field"
   ]
  },
  {
   "cell_type": "code",
   "execution_count": 40,
   "metadata": {
    "collapsed": false
   },
   "outputs": [
    {
     "data": {
      "text/plain": [
       "{'_id': '3',\n",
       " '_index': 'blog',\n",
       " '_type': 'post',\n",
       " '_version': 4,\n",
       " 'found': True,\n",
       " 'term_vectors': {'title': {'field_statistics': {'doc_count': 1,\n",
       "    'sum_doc_freq': 2,\n",
       "    'sum_ttf': 2},\n",
       "   'terms': {'ipsum': {'term_freq': 1,\n",
       "     'tokens': [{'end_offset': 11, 'position': 1, 'start_offset': 6}]},\n",
       "    'lorem': {'term_freq': 1,\n",
       "     'tokens': [{'end_offset': 5, 'position': 0, 'start_offset': 0}]}}}},\n",
       " 'took': 18}"
      ]
     },
     "execution_count": 40,
     "metadata": {},
     "output_type": "execute_result"
    }
   ],
   "source": [
    "es.termvectors(index=INDEX_NAME, doc_type=DOC_TYPE, id=3, fields=\"title\")"
   ]
  }
 ],
 "metadata": {
  "kernelspec": {
   "display_name": "Python 3",
   "language": "python",
   "name": "python3"
  },
  "language_info": {
   "codemirror_mode": {
    "name": "ipython",
    "version": 3
   },
   "file_extension": ".py",
   "mimetype": "text/x-python",
   "name": "python",
   "nbconvert_exporter": "python",
   "pygments_lexer": "ipython3",
   "version": "3.5.1"
  }
 },
 "nbformat": 4,
 "nbformat_minor": 0
}
